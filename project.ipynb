{
 "cells": [
  {
   "cell_type": "markdown",
   "id": "c0abdbf9",
   "metadata": {},
   "source": [
    "## Project 1"
   ]
  },
  {
   "cell_type": "markdown",
   "id": "09a039a7",
   "metadata": {},
   "source": [
    "### Links"
   ]
  },
  {
   "cell_type": "markdown",
   "id": "92fc041c",
   "metadata": {},
   "source": [
    "GitHub repo link: \n",
    "https://github.com/sarahorte/ind320project.git\n",
    "\n",
    "Streamlit app link: \n",
    "https://ind320project.streamlit.app/"
   ]
  }
 ],
 "metadata": {
  "language_info": {
   "name": "python"
  }
 },
 "nbformat": 4,
 "nbformat_minor": 5
}
