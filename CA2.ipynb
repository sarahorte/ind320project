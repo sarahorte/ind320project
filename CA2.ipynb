{
 "cells": [
  {
   "cell_type": "code",
   "execution_count": null,
   "id": "a02ae481",
   "metadata": {},
   "outputs": [],
   "source": []
  },
  {
   "cell_type": "markdown",
   "id": "a017847f",
   "metadata": {},
   "source": [
    "### Log\n",
    "During lectures earlier I have made sure that my cassandra connection works and that i have made a MongoDB accout and tested that i can manipulate data from Python"
   ]
  },
  {
   "cell_type": "markdown",
   "id": "9df32502",
   "metadata": {},
   "source": [
    "Establish a connection with your MongoDB database. When running this at streamlit.io, remember to copy your secrets to the webpage instead of exposing them on GitHub.\n",
    "\n",
    "hva betyr dette"
   ]
  }
 ],
 "metadata": {
  "language_info": {
   "name": "python"
  }
 },
 "nbformat": 4,
 "nbformat_minor": 5
}
