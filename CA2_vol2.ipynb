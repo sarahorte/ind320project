{
 "cells": [
  {
   "cell_type": "code",
   "execution_count": 1,
   "id": "4475c325",
   "metadata": {},
   "outputs": [
    {
     "name": "stdout",
     "output_type": "stream",
     "text": [
      "Status code: 200\n"
     ]
    }
   ],
   "source": [
    "# Use the Elhub API to retrieve hourly production data for all price areas using PRODUCTION_PER_GROUP_MBA_HOUR for all days and hours of the year 2021.\n",
    "# The API allows retrieving different datasets for each entity using the following format: https://api.elhub.no/energy-data/v0/{entity}?dataset={dataset}\n",
    "# The API returns data in JSON format. You can use the requests library to make the API calls and the pandas library to process the data.\n",
    "# You can use the following code to get started:\n",
    "import requests\n",
    "import pandas as pd\n",
    "import json\n",
    "import datetime as dt\n",
    "import matplotlib.pyplot as plt\n",
    "# Define the API endpoint and parameters\n",
    "endpoint = \"https://api.elhub.no/energy-data/v0/price-areas\"\n",
    "dataset = \"PRODUCTION_PER_GROUP_MBA_HOUR\"\n",
    "start_date = \"2021-01-01T00:00:00Z\"\n",
    "end_date = \"2021-12-31T23:00:00Z\"\n",
    "# Make the API call\n",
    "url = f\"{endpoint}?dataset={dataset}&start={start_date}&end={end_date}\"\n",
    "response = requests.get(url)\n",
    "print(f\"Status code: {response.status_code}\")\n",
    "data = response.json()\n",
    "\n"
   ]
  },
  {
   "cell_type": "code",
   "execution_count": 2,
   "id": "48123320",
   "metadata": {},
   "outputs": [
    {
     "name": "stdout",
     "output_type": "stream",
     "text": [
      "Top-level keys: ['data', 'links', 'meta']\n",
      "First entry keys: dict_keys(['attributes', 'id', 'type'])\n",
      "Attributes keys: dict_keys(['country', 'eic', 'name', 'productionPerGroupMbaHour'])\n"
     ]
    }
   ],
   "source": [
    "data = response.json()\n",
    "\n",
    "# Print top-level keys\n",
    "print(\"Top-level keys:\", list(data.keys()))\n",
    "\n",
    "# Print first element of 'data' if it exists\n",
    "if \"data\" in data:\n",
    "    print(\"First entry keys:\", data[\"data\"][0].keys())\n",
    "    print(\"Attributes keys:\", data[\"data\"][0][\"attributes\"].keys())\n",
    "else:\n",
    "    print(\"No 'data' key in response\")\n"
   ]
  },
  {
   "cell_type": "code",
   "execution_count": 3,
   "id": "bb5a181b",
   "metadata": {},
   "outputs": [
    {
     "name": "stdout",
     "output_type": "stream",
     "text": [
      "Total records collected: 17150\n"
     ]
    }
   ],
   "source": [
    "all_records = []\n",
    "\n",
    "for entry in data.get(\"data\", []):\n",
    "    attrs = entry.get(\"attributes\", {})\n",
    "    recs = attrs.get(\"productionPerGroupMbaHour\", [])\n",
    "    # Filter out placeholder \"*\"\n",
    "    recs = [r for r in recs if r.get(\"productionGroup\") != \"*\"]\n",
    "    all_records.extend(recs)\n",
    "\n",
    "print(f\"Total records collected: {len(all_records)}\")\n"
   ]
  },
  {
   "cell_type": "code",
   "execution_count": 4,
   "id": "8c0bd0d0",
   "metadata": {},
   "outputs": [
    {
     "data": {
      "text/html": [
       "<div>\n",
       "<style scoped>\n",
       "    .dataframe tbody tr th:only-of-type {\n",
       "        vertical-align: middle;\n",
       "    }\n",
       "\n",
       "    .dataframe tbody tr th {\n",
       "        vertical-align: top;\n",
       "    }\n",
       "\n",
       "    .dataframe thead th {\n",
       "        text-align: right;\n",
       "    }\n",
       "</style>\n",
       "<table border=\"1\" class=\"dataframe\">\n",
       "  <thead>\n",
       "    <tr style=\"text-align: right;\">\n",
       "      <th></th>\n",
       "      <th>endTime</th>\n",
       "      <th>lastUpdatedTime</th>\n",
       "      <th>priceArea</th>\n",
       "      <th>productionGroup</th>\n",
       "      <th>quantityKwh</th>\n",
       "    </tr>\n",
       "    <tr>\n",
       "      <th>startTime</th>\n",
       "      <th></th>\n",
       "      <th></th>\n",
       "      <th></th>\n",
       "      <th></th>\n",
       "      <th></th>\n",
       "    </tr>\n",
       "  </thead>\n",
       "  <tbody>\n",
       "    <tr>\n",
       "      <th>2025-09-17 10:00:00+02:00</th>\n",
       "      <td>2025-09-17T11:00:00+02:00</td>\n",
       "      <td>2025-10-01T18:00:10+02:00</td>\n",
       "      <td>NO1</td>\n",
       "      <td>hydro</td>\n",
       "      <td>2580360.8</td>\n",
       "    </tr>\n",
       "    <tr>\n",
       "      <th>2025-09-17 11:00:00+02:00</th>\n",
       "      <td>2025-09-17T12:00:00+02:00</td>\n",
       "      <td>2025-10-01T18:00:10+02:00</td>\n",
       "      <td>NO1</td>\n",
       "      <td>hydro</td>\n",
       "      <td>2619874.8</td>\n",
       "    </tr>\n",
       "    <tr>\n",
       "      <th>2025-09-17 12:00:00+02:00</th>\n",
       "      <td>2025-09-17T13:00:00+02:00</td>\n",
       "      <td>2025-10-01T18:00:10+02:00</td>\n",
       "      <td>NO1</td>\n",
       "      <td>hydro</td>\n",
       "      <td>2442582.0</td>\n",
       "    </tr>\n",
       "    <tr>\n",
       "      <th>2025-09-17 13:00:00+02:00</th>\n",
       "      <td>2025-09-17T14:00:00+02:00</td>\n",
       "      <td>2025-10-01T18:00:10+02:00</td>\n",
       "      <td>NO1</td>\n",
       "      <td>hydro</td>\n",
       "      <td>2451032.2</td>\n",
       "    </tr>\n",
       "    <tr>\n",
       "      <th>2025-09-17 14:00:00+02:00</th>\n",
       "      <td>2025-09-17T15:00:00+02:00</td>\n",
       "      <td>2025-10-01T18:00:10+02:00</td>\n",
       "      <td>NO1</td>\n",
       "      <td>hydro</td>\n",
       "      <td>2446066.0</td>\n",
       "    </tr>\n",
       "  </tbody>\n",
       "</table>\n",
       "</div>"
      ],
      "text/plain": [
       "                                             endTime  \\\n",
       "startTime                                              \n",
       "2025-09-17 10:00:00+02:00  2025-09-17T11:00:00+02:00   \n",
       "2025-09-17 11:00:00+02:00  2025-09-17T12:00:00+02:00   \n",
       "2025-09-17 12:00:00+02:00  2025-09-17T13:00:00+02:00   \n",
       "2025-09-17 13:00:00+02:00  2025-09-17T14:00:00+02:00   \n",
       "2025-09-17 14:00:00+02:00  2025-09-17T15:00:00+02:00   \n",
       "\n",
       "                                     lastUpdatedTime priceArea  \\\n",
       "startTime                                                        \n",
       "2025-09-17 10:00:00+02:00  2025-10-01T18:00:10+02:00       NO1   \n",
       "2025-09-17 11:00:00+02:00  2025-10-01T18:00:10+02:00       NO1   \n",
       "2025-09-17 12:00:00+02:00  2025-10-01T18:00:10+02:00       NO1   \n",
       "2025-09-17 13:00:00+02:00  2025-10-01T18:00:10+02:00       NO1   \n",
       "2025-09-17 14:00:00+02:00  2025-10-01T18:00:10+02:00       NO1   \n",
       "\n",
       "                          productionGroup  quantityKwh  \n",
       "startTime                                               \n",
       "2025-09-17 10:00:00+02:00           hydro    2580360.8  \n",
       "2025-09-17 11:00:00+02:00           hydro    2619874.8  \n",
       "2025-09-17 12:00:00+02:00           hydro    2442582.0  \n",
       "2025-09-17 13:00:00+02:00           hydro    2451032.2  \n",
       "2025-09-17 14:00:00+02:00           hydro    2446066.0  "
      ]
     },
     "execution_count": 4,
     "metadata": {},
     "output_type": "execute_result"
    }
   ],
   "source": [
    "df = pd.DataFrame(all_records)\n",
    "\n",
    "# Convert timestamps and numeric columns\n",
    "df['startTime'] = pd.to_datetime(df['startTime'])\n",
    "df['quantityKwh'] = pd.to_numeric(df['quantityKwh'])\n",
    "\n",
    "# Optional: set startTime as index\n",
    "df.set_index('startTime', inplace=True)\n",
    "\n",
    "df.head()\n"
   ]
  },
  {
   "cell_type": "code",
   "execution_count": 5,
   "id": "e3cbdf9e",
   "metadata": {},
   "outputs": [
    {
     "name": "stdout",
     "output_type": "stream",
     "text": [
      "['NO1' 'NO2' 'NO3' 'NO4' 'NO5']\n",
      "['hydro' 'other' 'solar' 'thermal' 'wind']\n",
      "2025-09-17 10:00:00+02:00 2025-10-15 23:00:00+02:00\n"
     ]
    }
   ],
   "source": [
    "print(df['priceArea'].unique())\n",
    "print(df['productionGroup'].unique())\n",
    "print(df.index.min(), df.index.max())\n"
   ]
  },
  {
   "cell_type": "code",
   "execution_count": null,
   "id": "6784deb8",
   "metadata": {},
   "outputs": [],
   "source": [
    "def page_extra() -> None:\n",
    "    st.title(\"Production Data by Price Area\")\n",
    "\n",
    "    col1, col2 = st.columns(2)\n",
    "\n",
    "    # Left column: select price area\n",
    "    with col1:\n",
    "        price_areas = collection.distinct(\"pricearea\")  # get all unique price areas\n",
    "        selected_area = st.radio(\"Select Price Area\", price_areas)\n",
    "\n",
    "    # Right column: show pie chart for selected price area\n",
    "    with col2:\n",
    "        # Fetch data from MongoDB\n",
    "        data = list(collection.find({\"pricearea\": selected_area}))\n",
    "        if data:\n",
    "            df_area = pd.DataFrame(data)\n",
    "            df_grouped = df_area.groupby(\"productiongroup\")[\"quantitykwh\"].sum().reset_index()\n",
    "\n",
    "            import plotly.express as px\n",
    "            fig = px.pie(\n",
    "                df_grouped, \n",
    "                values=\"quantitykwh\", \n",
    "                names=\"productiongroup\",\n",
    "                title=f\"Total Production for {selected_area}\"\n",
    "            )\n",
    "            st.plotly_chart(fig)\n",
    "        else:\n",
    "            st.write(\"No data found for this price area.\")\n"
   ]
  }
 ],
 "metadata": {
  "kernelspec": {
   "display_name": "Python (D2D_env)",
   "language": "python",
   "name": "d2d_env"
  },
  "language_info": {
   "codemirror_mode": {
    "name": "ipython",
    "version": 3
   },
   "file_extension": ".py",
   "mimetype": "text/x-python",
   "name": "python",
   "nbconvert_exporter": "python",
   "pygments_lexer": "ipython3",
   "version": "3.12.11"
  }
 },
 "nbformat": 4,
 "nbformat_minor": 5
}
